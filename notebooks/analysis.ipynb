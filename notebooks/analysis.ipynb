{
  "cells": [
    {
      "cell_type": "markdown",
      "metadata": {},
      "source": [
        "# Yelp MongoDB Analytics — Exploratory Analysis\n",
        "\n",
        "This notebook explores restaurant data ingested from the Yelp Fusion API into MongoDB Atlas.\n",
        "\n",
        "- Top categories by average rating\n",
        "- Rating vs. review count\n",
        "- Rating distribution by price level\n",
        "\n",
        "Note: Ensure you've run the ingestion script and configured `.env` first.\n"
      ]
    },
    {
      "cell_type": "code",
      "execution_count": null,
      "metadata": {},
      "outputs": [],
      "source": [
        "# Imports and setup\n",
        "import os\n",
        "from dotenv import load_dotenv\n",
        "\n",
        "import pandas as pd\n",
        "import matplotlib.pyplot as plt\n",
        "\n",
        "from pymongo import MongoClient\n",
        "\n",
        "import sys\n",
        "sys.path.append(os.path.abspath(os.path.join('..')))\n",
        "\n",
        "from src.utils import get_mongo_collection\n",
        "from src.query_mongodb import (\n",
        "    average_rating_per_category,\n",
        "    price_level_distribution,\n",
        "    rating_reviewcount_pairs,\n",
        "    ratings_by_price_level,\n",
        ")\n",
        "\n",
        "# Inline plots\n",
        "%matplotlib inline\n",
        "plt.style.use('ggplot')\n",
        "\n",
        "# Load env variables (for completeness if ran outside root)\n",
        "load_dotenv(os.path.join('..', '.env'))\n",
        "\n",
        "collection = get_mongo_collection()\n"
      ]
    },
    {
      "cell_type": "code",
      "execution_count": null,
      "metadata": {},
      "outputs": [],
      "source": [
        "# Top categories by average rating\n",
        "results = average_rating_per_category(collection, min_businesses=5)\n",
        "df_cat = pd.DataFrame(results)\n",
        "\n",
        "# Keep top 20 for readability\n",
        "df_top = df_cat.head(20)\n",
        "\n",
        "ax = df_top.plot(kind='barh', x='category', y='avg_rating', legend=False, figsize=(8, 10), color='#1f77b4')\n",
        "ax.set_xlabel('Average Rating')\n",
        "ax.set_ylabel('Category')\n",
        "ax.set_title('Top Categories by Average Rating (min 5 businesses)')\n",
        "ax.invert_yaxis()\n",
        "plt.tight_layout()\n",
        "plt.show()\n",
        "\n",
        "df_top.head()\n"
      ]
    },
    {
      "cell_type": "code",
      "execution_count": null,
      "metadata": {},
      "outputs": [],
      "source": [
        "# Rating vs. review count (scatter)\n",
        "results = rating_reviewcount_pairs(collection, min_review_count=0)\n",
        "df_pairs = pd.DataFrame(results)\n",
        "\n",
        "fig, ax = plt.subplots(figsize=(8, 6))\n",
        "ax.scatter(df_pairs['review_count'], df_pairs['rating'], alpha=0.4, s=20, c='#ff7f0e')\n",
        "ax.set_xlabel('Review Count')\n",
        "ax.set_ylabel('Rating')\n",
        "ax.set_title('Rating vs. Review Count')\n",
        "plt.tight_layout()\n",
        "plt.show()\n",
        "\n",
        "df_pairs.describe()\n"
      ]
    },
    {
      "cell_type": "code",
      "execution_count": null,
      "metadata": {},
      "outputs": [],
      "source": [
        "# Rating distribution by price level\n",
        "results = ratings_by_price_level(collection)\n",
        "df_price = pd.DataFrame(results)\n",
        "\n",
        "# Normalize price labels\n",
        "price_order = ['$', '$$', '$$$', '$$$$', 'Unknown']\n",
        "df_price['price'] = pd.Categorical(df_price['price'], categories=price_order, ordered=True)\n",
        "\n",
        "ax = df_price.boxplot(column='rating', by='price', grid=False, figsize=(8, 6))\n",
        "plt.suptitle('')\n",
        "plt.title('Rating Distribution by Price Level')\n",
        "plt.xlabel('Price Level')\n",
        "plt.ylabel('Rating')\n",
        "plt.tight_layout()\n",
        "plt.show()\n",
        "\n",
        "df_price.groupby('price').rating.describe()\n"
      ]
    },
    {
      "cell_type": "code",
      "execution_count": null,
      "metadata": {},
      "outputs": [],
      "source": [
        "# Correlation between review count and rating\n",
        "from scipy.stats import pearsonr\n",
        "\n",
        "if len(df_pairs) > 1:\n",
        "    corr, pval = pearsonr(df_pairs['review_count'], df_pairs['rating'])\n",
        "    print(f\"Pearson r: {corr:.4f} (p={pval:.4g})\")\n",
        "else:\n",
        "    print(\"Not enough data for correlation.\")\n"
      ]
    }
  ],
  "metadata": {
    "language_info": {
      "name": "python"
    }
  },
  "nbformat": 4,
  "nbformat_minor": 2
}
